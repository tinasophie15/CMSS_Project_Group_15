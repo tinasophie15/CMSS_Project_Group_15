{
 "cells": [
  {
   "cell_type": "markdown",
   "id": "0dabeba4",
   "metadata": {},
   "source": [
    "# Inequality and Polarization: An Agent-Based Modeling Approach Using Eurostat Data"
   ]
  },
  {
   "cell_type": "markdown",
   "id": "53d3ee93",
   "metadata": {},
   "source": [
    "by:\n",
    "- Kevin Heinrich, 11902941\n",
    "- Matthias Hemmer, 11804194\n",
    "- Marina Hofer, 12337819\n",
    "- Christina Sophie Knes, 11902902"
   ]
  },
  {
   "cell_type": "markdown",
   "id": "a23a181a",
   "metadata": {},
   "source": [
    "## Project Description\n",
    "\n",
    "This project explores the relationship between regional income inequality and social polarization in Europe using agent-based modeling. Drawing on real-world data from Eurostat, including the Gini coefficient, at-risk-of-poverty rates and disposable income across NUTS-2 regions, we simulate how economic disparities might influence public opinion dynamics and social fragmentation.\n",
    "\n",
    "We implement a modified Deffuant model, where agents interact and adjust their opinions based on income differences and local economic context. The model integrates heterogeneity in income, frustration levels, and opinion tolerance, creating a dynamic system that allows us to observe under which conditions polarization emerges.\n",
    "\n",
    "Our main objectives are:\n",
    "- To simulate opinion formation in a socioeconomically stratified population.\n",
    "- To explore how varying levels of inequality and redistribution affect polarization.\n",
    "- To identify regional vulnerability to polarization based on Eurostat indicators.\n",
    "\n",
    "Through these simulations, we aim to provide insights into how economic structures may contribute to societal tensions, and how policy interventions might influence collective outcomes."
   ]
  },
  {
   "cell_type": "markdown",
   "id": "e758b33f",
   "metadata": {},
   "source": [
    "## Environment Setup\n",
    "\n",
    "For the following project, **Python Version 3.13.5** was used.\n",
    "\n",
    "\n",
    "**`TODO: Rewrite import description when everything is ready for submission`**\n",
    "\n",
    "The following libraries are required for this project:\n",
    "\n",
    "### Deep Learning\n",
    "- **`torch`** – PyTorch, an open-source deep learning library for tensor computation and neural networks.\n",
    "\n",
    "### Natural Language Processing (NLP)\n",
    "- **`nltk`** – Toolkit for working with human language data, supporting text processing and analysis.\n",
    "- **`spacy`** – Fast and production-ready NLP library with pre-trained models and support for pipelines.\n",
    "- **`textstat`** – A package for computing text readability scores and complexity metrics.\n",
    "\n",
    "### Standard Library Modules\n",
    "- **`re`** – Provides regular expression matching operations.\n",
    "- **`os`** – Interfaces for interacting with the operating system.\n",
    "- **`math`** – Mathematical functions such as logarithms, square roots, and constants.\n",
    "- **`unicodedata`** – Utilities for Unicode character properties and normalization.\n"
   ]
  },
  {
   "cell_type": "markdown",
   "id": "f12d7d30",
   "metadata": {},
   "source": [
    "## PIP installations\n",
    "\n",
    "To install the required libraries, run the following:"
   ]
  },
  {
   "cell_type": "code",
   "execution_count": 39,
   "id": "d268818d-eb24-4fcf-bc39-f7d3c6e3a4f5",
   "metadata": {},
   "outputs": [
    {
     "name": "stdout",
     "output_type": "stream",
     "text": [
      "Requirement already satisfied: eurostat in ./.venv/lib/python3.12/site-packages (1.1.1)\n",
      "Requirement already satisfied: pandas in ./.venv/lib/python3.12/site-packages (from eurostat) (2.3.0)\n",
      "Requirement already satisfied: requests in ./.venv/lib/python3.12/site-packages (from eurostat) (2.32.4)\n",
      "Requirement already satisfied: numpy>=1.26.0 in ./.venv/lib/python3.12/site-packages (from pandas->eurostat) (2.3.1)\n",
      "Requirement already satisfied: python-dateutil>=2.8.2 in ./.venv/lib/python3.12/site-packages (from pandas->eurostat) (2.9.0.post0)\n",
      "Requirement already satisfied: pytz>=2020.1 in ./.venv/lib/python3.12/site-packages (from pandas->eurostat) (2025.2)\n",
      "Requirement already satisfied: tzdata>=2022.7 in ./.venv/lib/python3.12/site-packages (from pandas->eurostat) (2025.2)\n",
      "Requirement already satisfied: charset_normalizer<4,>=2 in ./.venv/lib/python3.12/site-packages (from requests->eurostat) (3.4.2)\n",
      "Requirement already satisfied: idna<4,>=2.5 in ./.venv/lib/python3.12/site-packages (from requests->eurostat) (3.10)\n",
      "Requirement already satisfied: urllib3<3,>=1.21.1 in ./.venv/lib/python3.12/site-packages (from requests->eurostat) (2.5.0)\n",
      "Requirement already satisfied: certifi>=2017.4.17 in ./.venv/lib/python3.12/site-packages (from requests->eurostat) (2025.6.15)\n",
      "Requirement already satisfied: six>=1.5 in ./.venv/lib/python3.12/site-packages (from python-dateutil>=2.8.2->pandas->eurostat) (1.17.0)\n",
      "\n",
      "\u001b[1m[\u001b[0m\u001b[34;49mnotice\u001b[0m\u001b[1;39;49m]\u001b[0m\u001b[39;49m A new release of pip is available: \u001b[0m\u001b[31;49m24.2\u001b[0m\u001b[39;49m -> \u001b[0m\u001b[32;49m25.1.1\u001b[0m\n",
      "\u001b[1m[\u001b[0m\u001b[34;49mnotice\u001b[0m\u001b[1;39;49m]\u001b[0m\u001b[39;49m To update, run: \u001b[0m\u001b[32;49mpip install --upgrade pip\u001b[0m\n",
      "Requirement already satisfied: numpy in ./.venv/lib/python3.12/site-packages (2.3.1)\n",
      "\n",
      "\u001b[1m[\u001b[0m\u001b[34;49mnotice\u001b[0m\u001b[1;39;49m]\u001b[0m\u001b[39;49m A new release of pip is available: \u001b[0m\u001b[31;49m24.2\u001b[0m\u001b[39;49m -> \u001b[0m\u001b[32;49m25.1.1\u001b[0m\n",
      "\u001b[1m[\u001b[0m\u001b[34;49mnotice\u001b[0m\u001b[1;39;49m]\u001b[0m\u001b[39;49m To update, run: \u001b[0m\u001b[32;49mpip install --upgrade pip\u001b[0m\n",
      "Requirement already satisfied: pandas in ./.venv/lib/python3.12/site-packages (2.3.0)\n",
      "Requirement already satisfied: numpy>=1.26.0 in ./.venv/lib/python3.12/site-packages (from pandas) (2.3.1)\n",
      "Requirement already satisfied: python-dateutil>=2.8.2 in ./.venv/lib/python3.12/site-packages (from pandas) (2.9.0.post0)\n",
      "Requirement already satisfied: pytz>=2020.1 in ./.venv/lib/python3.12/site-packages (from pandas) (2025.2)\n",
      "Requirement already satisfied: tzdata>=2022.7 in ./.venv/lib/python3.12/site-packages (from pandas) (2025.2)\n",
      "Requirement already satisfied: six>=1.5 in ./.venv/lib/python3.12/site-packages (from python-dateutil>=2.8.2->pandas) (1.17.0)\n",
      "\n",
      "\u001b[1m[\u001b[0m\u001b[34;49mnotice\u001b[0m\u001b[1;39;49m]\u001b[0m\u001b[39;49m A new release of pip is available: \u001b[0m\u001b[31;49m24.2\u001b[0m\u001b[39;49m -> \u001b[0m\u001b[32;49m25.1.1\u001b[0m\n",
      "\u001b[1m[\u001b[0m\u001b[34;49mnotice\u001b[0m\u001b[1;39;49m]\u001b[0m\u001b[39;49m To update, run: \u001b[0m\u001b[32;49mpip install --upgrade pip\u001b[0m\n",
      "Requirement already satisfied: mesa in ./.venv/lib/python3.12/site-packages (3.2.0)\n",
      "Requirement already satisfied: numpy in ./.venv/lib/python3.12/site-packages (from mesa) (2.3.1)\n",
      "Requirement already satisfied: pandas in ./.venv/lib/python3.12/site-packages (from mesa) (2.3.0)\n",
      "Requirement already satisfied: scipy in ./.venv/lib/python3.12/site-packages (from mesa) (1.16.0)\n",
      "Requirement already satisfied: tqdm in ./.venv/lib/python3.12/site-packages (from mesa) (4.67.1)\n",
      "Requirement already satisfied: python-dateutil>=2.8.2 in ./.venv/lib/python3.12/site-packages (from pandas->mesa) (2.9.0.post0)\n",
      "Requirement already satisfied: pytz>=2020.1 in ./.venv/lib/python3.12/site-packages (from pandas->mesa) (2025.2)\n",
      "Requirement already satisfied: tzdata>=2022.7 in ./.venv/lib/python3.12/site-packages (from pandas->mesa) (2025.2)\n",
      "Requirement already satisfied: six>=1.5 in ./.venv/lib/python3.12/site-packages (from python-dateutil>=2.8.2->pandas->mesa) (1.17.0)\n",
      "\n",
      "\u001b[1m[\u001b[0m\u001b[34;49mnotice\u001b[0m\u001b[1;39;49m]\u001b[0m\u001b[39;49m A new release of pip is available: \u001b[0m\u001b[31;49m24.2\u001b[0m\u001b[39;49m -> \u001b[0m\u001b[32;49m25.1.1\u001b[0m\n",
      "\u001b[1m[\u001b[0m\u001b[34;49mnotice\u001b[0m\u001b[1;39;49m]\u001b[0m\u001b[39;49m To update, run: \u001b[0m\u001b[32;49mpip install --upgrade pip\u001b[0m\n",
      "Requirement already satisfied: scipy in ./.venv/lib/python3.12/site-packages (1.16.0)\n",
      "Requirement already satisfied: numpy<2.6,>=1.25.2 in ./.venv/lib/python3.12/site-packages (from scipy) (2.3.1)\n",
      "\n",
      "\u001b[1m[\u001b[0m\u001b[34;49mnotice\u001b[0m\u001b[1;39;49m]\u001b[0m\u001b[39;49m A new release of pip is available: \u001b[0m\u001b[31;49m24.2\u001b[0m\u001b[39;49m -> \u001b[0m\u001b[32;49m25.1.1\u001b[0m\n",
      "\u001b[1m[\u001b[0m\u001b[34;49mnotice\u001b[0m\u001b[1;39;49m]\u001b[0m\u001b[39;49m To update, run: \u001b[0m\u001b[32;49mpip install --upgrade pip\u001b[0m\n",
      "Requirement already satisfied: matplotlib in ./.venv/lib/python3.12/site-packages (3.10.3)\n",
      "Requirement already satisfied: contourpy>=1.0.1 in ./.venv/lib/python3.12/site-packages (from matplotlib) (1.3.2)\n",
      "Requirement already satisfied: cycler>=0.10 in ./.venv/lib/python3.12/site-packages (from matplotlib) (0.12.1)\n",
      "Requirement already satisfied: fonttools>=4.22.0 in ./.venv/lib/python3.12/site-packages (from matplotlib) (4.58.5)\n",
      "Requirement already satisfied: kiwisolver>=1.3.1 in ./.venv/lib/python3.12/site-packages (from matplotlib) (1.4.8)\n",
      "Requirement already satisfied: numpy>=1.23 in ./.venv/lib/python3.12/site-packages (from matplotlib) (2.3.1)\n",
      "Requirement already satisfied: packaging>=20.0 in ./.venv/lib/python3.12/site-packages (from matplotlib) (25.0)\n",
      "Requirement already satisfied: pillow>=8 in ./.venv/lib/python3.12/site-packages (from matplotlib) (11.3.0)\n",
      "Requirement already satisfied: pyparsing>=2.3.1 in ./.venv/lib/python3.12/site-packages (from matplotlib) (3.2.3)\n",
      "Requirement already satisfied: python-dateutil>=2.7 in ./.venv/lib/python3.12/site-packages (from matplotlib) (2.9.0.post0)\n",
      "Requirement already satisfied: six>=1.5 in ./.venv/lib/python3.12/site-packages (from python-dateutil>=2.7->matplotlib) (1.17.0)\n",
      "\n",
      "\u001b[1m[\u001b[0m\u001b[34;49mnotice\u001b[0m\u001b[1;39;49m]\u001b[0m\u001b[39;49m A new release of pip is available: \u001b[0m\u001b[31;49m24.2\u001b[0m\u001b[39;49m -> \u001b[0m\u001b[32;49m25.1.1\u001b[0m\n",
      "\u001b[1m[\u001b[0m\u001b[34;49mnotice\u001b[0m\u001b[1;39;49m]\u001b[0m\u001b[39;49m To update, run: \u001b[0m\u001b[32;49mpip install --upgrade pip\u001b[0m\n",
      "Collecting seaborn\n",
      "  Using cached seaborn-0.13.2-py3-none-any.whl.metadata (5.4 kB)\n",
      "Requirement already satisfied: numpy!=1.24.0,>=1.20 in ./.venv/lib/python3.12/site-packages (from seaborn) (2.3.1)\n",
      "Requirement already satisfied: pandas>=1.2 in ./.venv/lib/python3.12/site-packages (from seaborn) (2.3.0)\n",
      "Requirement already satisfied: matplotlib!=3.6.1,>=3.4 in ./.venv/lib/python3.12/site-packages (from seaborn) (3.10.3)\n",
      "Requirement already satisfied: contourpy>=1.0.1 in ./.venv/lib/python3.12/site-packages (from matplotlib!=3.6.1,>=3.4->seaborn) (1.3.2)\n",
      "Requirement already satisfied: cycler>=0.10 in ./.venv/lib/python3.12/site-packages (from matplotlib!=3.6.1,>=3.4->seaborn) (0.12.1)\n",
      "Requirement already satisfied: fonttools>=4.22.0 in ./.venv/lib/python3.12/site-packages (from matplotlib!=3.6.1,>=3.4->seaborn) (4.58.5)\n",
      "Requirement already satisfied: kiwisolver>=1.3.1 in ./.venv/lib/python3.12/site-packages (from matplotlib!=3.6.1,>=3.4->seaborn) (1.4.8)\n",
      "Requirement already satisfied: packaging>=20.0 in ./.venv/lib/python3.12/site-packages (from matplotlib!=3.6.1,>=3.4->seaborn) (25.0)\n",
      "Requirement already satisfied: pillow>=8 in ./.venv/lib/python3.12/site-packages (from matplotlib!=3.6.1,>=3.4->seaborn) (11.3.0)\n",
      "Requirement already satisfied: pyparsing>=2.3.1 in ./.venv/lib/python3.12/site-packages (from matplotlib!=3.6.1,>=3.4->seaborn) (3.2.3)\n",
      "Requirement already satisfied: python-dateutil>=2.7 in ./.venv/lib/python3.12/site-packages (from matplotlib!=3.6.1,>=3.4->seaborn) (2.9.0.post0)\n",
      "Requirement already satisfied: pytz>=2020.1 in ./.venv/lib/python3.12/site-packages (from pandas>=1.2->seaborn) (2025.2)\n",
      "Requirement already satisfied: tzdata>=2022.7 in ./.venv/lib/python3.12/site-packages (from pandas>=1.2->seaborn) (2025.2)\n",
      "Requirement already satisfied: six>=1.5 in ./.venv/lib/python3.12/site-packages (from python-dateutil>=2.7->matplotlib!=3.6.1,>=3.4->seaborn) (1.17.0)\n",
      "Using cached seaborn-0.13.2-py3-none-any.whl (294 kB)\n",
      "Installing collected packages: seaborn\n",
      "Successfully installed seaborn-0.13.2\n",
      "\n",
      "\u001b[1m[\u001b[0m\u001b[34;49mnotice\u001b[0m\u001b[1;39;49m]\u001b[0m\u001b[39;49m A new release of pip is available: \u001b[0m\u001b[31;49m24.2\u001b[0m\u001b[39;49m -> \u001b[0m\u001b[32;49m25.1.1\u001b[0m\n",
      "\u001b[1m[\u001b[0m\u001b[34;49mnotice\u001b[0m\u001b[1;39;49m]\u001b[0m\u001b[39;49m To update, run: \u001b[0m\u001b[32;49mpip install --upgrade pip\u001b[0m\n"
     ]
    }
   ],
   "source": [
    "! pip install eurostat\n",
    "! pip install numpy\n",
    "! pip install pandas\n",
    "! pip install mesa\n",
    "! pip install scipy\n",
    "! pip install matplotlib\n",
    "! pip install seaborn"
   ]
  },
  {
   "cell_type": "markdown",
   "id": "2f3d77a6",
   "metadata": {},
   "source": [
    "## Import modules"
   ]
  },
  {
   "cell_type": "code",
   "execution_count": 51,
   "id": "e02cc80e",
   "metadata": {},
   "outputs": [],
   "source": [
    "import eurostat\n",
    "from mesa import Model, Agent, DataCollector\n",
    "import numpy as np\n",
    "import pandas as pd\n",
    "import matplotlib.pyplot as plt\n",
    "from pathlib import Path\n",
    "import seaborn as sns"
   ]
  },
  {
   "cell_type": "code",
   "execution_count": 52,
   "id": "160eabf8",
   "metadata": {},
   "outputs": [],
   "source": [
    "# Preprocessing Constants\n",
    "TARGET_INCOME_UNIT = \"EUR\" # Unit of measure: Euro\n",
    "TARGET_INDIC_IL = \"MEI_E\" # Income and living conditions indicator: Mean equivalised net income\n",
    "TARGET_AGE = \"TOTAL\"\n",
    "TARGET_SEX = \"T\" # Total\n",
    "\n",
    "NUM_STEPS = 100\n",
    "NUM_AGENTS_PER_REGION = 20\n",
    "SEED = 15\n",
    "SHIFT_RATE = 0.3"
   ]
  },
  {
   "cell_type": "markdown",
   "id": "d35779d4",
   "metadata": {},
   "source": [
    "## Set Seed for \"random\" calls"
   ]
  },
  {
   "cell_type": "code",
   "execution_count": 53,
   "id": "62db9bc1",
   "metadata": {},
   "outputs": [],
   "source": [
    "np.random.seed(SEED)"
   ]
  },
  {
   "cell_type": "markdown",
   "id": "1f723459",
   "metadata": {},
   "source": [
    "## Define and create \"results\" directory"
   ]
  },
  {
   "cell_type": "code",
   "execution_count": 54,
   "id": "f6493c7f",
   "metadata": {},
   "outputs": [],
   "source": [
    "result_dir = Path.cwd().joinpath(\"results\")\n",
    "result_dir.mkdir(parents=True, exist_ok=True)"
   ]
  },
  {
   "cell_type": "markdown",
   "id": "d025c1a3",
   "metadata": {},
   "source": [
    "## 1. Read Eurostat data"
   ]
  },
  {
   "cell_type": "markdown",
   "id": "eaf1c53f",
   "metadata": {},
   "source": [
    "Firstly, we download the necessary datasets via the `eurostat` API."
   ]
  },
  {
   "cell_type": "code",
   "execution_count": 55,
   "id": "8035b83b",
   "metadata": {},
   "outputs": [],
   "source": [
    "df_orig_mean_median_income = eurostat.get_data_df(\"ilc_di03\")\n",
    "df_orig_gini_coefficient = eurostat.get_data_df(\"ilc_di12\")\n",
    "df_orig_risk_of_poverty = eurostat.get_data_df(\"ilc_li02\")\n",
    "df_orig_household_cost_shares = eurostat.get_data_df(\"ilc_mded01\")"
   ]
  },
  {
   "cell_type": "markdown",
   "id": "941bfdf9",
   "metadata": {},
   "source": [
    "## 2. Preprocess data"
   ]
  },
  {
   "cell_type": "code",
   "execution_count": 56,
   "id": "a131e84e",
   "metadata": {},
   "outputs": [],
   "source": [
    "relevant_years = [str(year) for year in range(2015, 2025)] \n",
    "relevant_columns = [\"geo\"] + relevant_years"
   ]
  },
  {
   "cell_type": "markdown",
   "id": "385962da",
   "metadata": {},
   "source": [
    "### 2.1 Preprocess \"Mean and Median income\" Dataset"
   ]
  },
  {
   "cell_type": "code",
   "execution_count": 57,
   "id": "433f80e1",
   "metadata": {},
   "outputs": [],
   "source": [
    "df_processed_mean_median_income = df_orig_mean_median_income.copy(deep=True)\n",
    "\n",
    "df_processed_mean_median_income = df_processed_mean_median_income.rename(columns={\"geo\\\\TIME_PERIOD\": \"geo\"})\n",
    "df_processed_mean_median_income = df_processed_mean_median_income[(df_processed_mean_median_income[\"sex\"] == TARGET_SEX) & \n",
    "                                                                  (df_processed_mean_median_income[\"age\"] == TARGET_AGE) &\n",
    "                                                                  (df_processed_mean_median_income[\"unit\"] == TARGET_INCOME_UNIT) &\n",
    "                                                                  (df_processed_mean_median_income[\"indic_il\"] == TARGET_INDIC_IL)]\n",
    "df_processed_mean_median_income = df_processed_mean_median_income[relevant_columns]\n",
    "df_processed_mean_median_income = df_processed_mean_median_income.dropna()"
   ]
  },
  {
   "cell_type": "markdown",
   "id": "349daae6",
   "metadata": {},
   "source": [
    "### 2.2 Preprocess \"Gini Coefficient\" Dataset"
   ]
  },
  {
   "cell_type": "code",
   "execution_count": 58,
   "id": "4c28c04d",
   "metadata": {},
   "outputs": [],
   "source": [
    "df_processed_gini_coefficient = df_orig_gini_coefficient.copy(deep=True)\n",
    "\n",
    "df_processed_gini_coefficient = df_processed_gini_coefficient.rename(columns={\"geo\\\\TIME_PERIOD\": \"geo\"})\n",
    "df_processed_gini_coefficient = df_processed_gini_coefficient[df_processed_gini_coefficient[\"age\"] == TARGET_AGE]\n",
    "df_processed_gini_coefficient = df_processed_gini_coefficient[relevant_columns]\n",
    "df_processed_gini_coefficient = df_processed_gini_coefficient.dropna()\n",
    "\n",
    "# Convert the percentage value in a floating point number for every gini coefficient\n",
    "for year in relevant_years:\n",
    "    df_processed_gini_coefficient[year] = df_processed_gini_coefficient[year].div(100).round(4)"
   ]
  },
  {
   "cell_type": "markdown",
   "id": "08369d91",
   "metadata": {},
   "source": [
    "### 2.3 Preprocess \"At-risk-of-poverty\" Dataset"
   ]
  },
  {
   "cell_type": "code",
   "execution_count": null,
   "id": "e8029fab",
   "metadata": {},
   "outputs": [],
   "source": [
    "# TODO: Finish preprocessing\n",
    "df_processed_risk_of_poverty = df_orig_risk_of_poverty.copy(deep=True)\n",
    "\n",
    "df_processed_risk_of_poverty = df_processed_risk_of_poverty.rename(columns={\"geo\\\\TIME_PERIOD\": \"geo\"})\n",
    "df_processed_risk_of_poverty = df_processed_risk_of_poverty[(df_processed_risk_of_poverty[\"sex\"] == TARGET_SEX) & \n",
    "                                                            (df_processed_risk_of_poverty[\"age\"] == TARGET_AGE)]\n",
    "df_processed_risk_of_poverty = df_processed_risk_of_poverty[relevant_columns]\n"
   ]
  },
  {
   "cell_type": "markdown",
   "id": "381cd4a9",
   "metadata": {},
   "source": [
    "### 2.4 Preprocess \"Housing Cost\" Dataset"
   ]
  },
  {
   "cell_type": "code",
   "execution_count": 59,
   "id": "740518fe",
   "metadata": {},
   "outputs": [],
   "source": [
    "df_processed_household_cost_shares = df_orig_household_cost_shares.copy(deep=True)\n",
    "\n",
    "df_processed_household_cost_shares = df_processed_household_cost_shares.rename(columns={\"geo\\\\TIME_PERIOD\": \"geo\"})\n",
    "df_processed_household_cost_shares = df_processed_household_cost_shares[(df_processed_household_cost_shares[\"incgrp\"] == \"TOTAL\") & \n",
    "                                                            (df_processed_household_cost_shares[\"hhtyp\"] == \"TOTAL\")]\n",
    "df_processed_household_cost_shares = df_processed_household_cost_shares[relevant_columns]\n",
    "df_processed_household_cost_shares = df_processed_household_cost_shares.dropna()\n",
    "\n",
    "for year in relevant_years:\n",
    "    df_processed_household_cost_shares[year] = df_processed_household_cost_shares[year].div(100).round(4)"
   ]
  },
  {
   "cell_type": "markdown",
   "id": "b2ffcf26",
   "metadata": {},
   "source": [
    "### 2.5 Calculate intersection of regions between all datasets"
   ]
  },
  {
   "cell_type": "code",
   "execution_count": 60,
   "id": "e8ac981b",
   "metadata": {},
   "outputs": [],
   "source": [
    "distinct_regions_mean_median_income = set(df_processed_mean_median_income[\"geo\"].unique())\n",
    "distinct_regions_gini_coefficient = set(df_processed_gini_coefficient[\"geo\"].unique())\n",
    "distinct_regions_household_cost_shares = set(df_processed_household_cost_shares[\"geo\"].unique())\n",
    "\n",
    "shared_regions = distinct_regions_mean_median_income & distinct_regions_gini_coefficient & distinct_regions_household_cost_shares\n",
    "\n",
    "df_processed_mean_median_income = df_processed_mean_median_income[df_processed_mean_median_income[\"geo\"].isin(shared_regions)].copy()\n",
    "df_processed_gini_coefficient = df_processed_gini_coefficient[df_processed_gini_coefficient[\"geo\"].isin(shared_regions)].copy()\n",
    "df_processed_household_cost_shares = df_processed_household_cost_shares[df_processed_household_cost_shares[\"geo\"].isin(shared_regions)].copy()"
   ]
  },
  {
   "cell_type": "markdown",
   "id": "c761f5d7",
   "metadata": {},
   "source": [
    "## 3. Generate Synthetic Income Distribution"
   ]
  },
  {
   "cell_type": "code",
   "execution_count": 61,
   "id": "ac951ba3",
   "metadata": {},
   "outputs": [],
   "source": [
    "# See: https://en.wikipedia.org/wiki/Log-normal_distribution\n",
    "def generate_synthetic_income_distribution(avg_income: float, gini: float, n: int = NUM_AGENTS_PER_REGION):\n",
    "    sigma = gini * 1.5  # empirical tuning\n",
    "    mu = np.log(avg_income) - (sigma ** 2) / 2\n",
    "    return np.random.lognormal(mean=mu, sigma=sigma, size=n)"
   ]
  },
  {
   "cell_type": "code",
   "execution_count": 62,
   "id": "fbecd861",
   "metadata": {},
   "outputs": [],
   "source": [
    "income_distributions = {}\n",
    "\n",
    "for year in relevant_years:\n",
    "    mean_incomes = df_processed_mean_median_income[[\"geo\", year]].rename(columns={year: \"mean\"})\n",
    "    gini_coefficients = df_processed_gini_coefficient[[\"geo\", year]].rename(columns={year: \"gini\"})\n",
    "    df_merged = mean_incomes.merge(gini_coefficients, left_on=\"geo\", right_on=\"geo\")\n",
    "    \n",
    "    distributions_by_year = {}\n",
    "    for _, row in df_merged.iterrows():\n",
    "        region = row[\"geo\"]\n",
    "        mean_income = row[\"mean\"]\n",
    "        gini = row[\"gini\"]\n",
    "        distributions_by_year[region] = generate_synthetic_income_distribution(mean_income, gini)\n",
    "    \n",
    "    income_distributions[year] = distributions_by_year"
   ]
  },
  {
   "cell_type": "markdown",
   "id": "48a257af",
   "metadata": {},
   "source": [
    "## 4. Create the Agent and Model Classes"
   ]
  },
  {
   "cell_type": "code",
   "execution_count": 63,
   "id": "9976c2db",
   "metadata": {},
   "outputs": [],
   "source": [
    "# TODO: Extend with poverty flag\n",
    "class PersonAgent(Agent):\n",
    "    def __init__(self, model, region: str, income: float, gini: float, opinion: float, household_cost_share: float | None):\n",
    "        super().__init__(model)\n",
    "        self.region = region\n",
    "        self.income = income\n",
    "        self.gini = gini\n",
    "        self.opinion = opinion\n",
    "        self.effective_income = income\n",
    "        if household_cost_share is not None:\n",
    "            self.effective_income = income * (1 - household_cost_share)\n",
    "        # self.poverty_flag = poverty_flag\n",
    "\n",
    "\n",
    "        # Frustration increases if income is below region average or in poverty\n",
    "        region_avg = self.model.region_data[self.model.region_data[\"geo\"] == region][\"mean\"].values[0]\n",
    "        self.frustration = float(max(0, (region_avg - self.effective_income) / region_avg))\n",
    "        # if self.poverty_flag:\n",
    "        #     self.frustration += 0.2  # amplify if in poverty\n",
    "\n",
    "        # Tolerance: more frustration → less tolerance\n",
    "        self.tolerance = max(0.05, 0.5 - 0.4 * self.frustration)\n",
    "\n",
    "    def step(self):\n",
    "        partner = self.random.choice(self.model.agents)\n",
    "        delta = abs(self.opinion - partner.opinion)\n",
    "        if delta < self.tolerance and delta < partner.tolerance:\n",
    "            mu = self.model.mu\n",
    "            self.opinion += mu * (partner.opinion - self.opinion)\n",
    "            partner.opinion += mu * (self.opinion - partner.opinion)"
   ]
  },
  {
   "cell_type": "code",
   "execution_count": 66,
   "id": "ded0834b",
   "metadata": {},
   "outputs": [],
   "source": [
    "class InequalityModel(Model):\n",
    "    def __init__(self, region_data: pd.DataFrame, synthetic_incomes: dict[str, list[float]], agents_per_region: int, mu: float):\n",
    "        super().__init__(seed=SEED)\n",
    "        self.mu = mu\n",
    "        self.region_data = region_data\n",
    "        \n",
    "        self.init_agents(region_data, synthetic_incomes, agents_per_region)\n",
    "\n",
    "        self.datacollector = DataCollector(\n",
    "            model_reporters={\n",
    "                \"OpinionVariance\": lambda m: np.var([a.opinion for a in m._agents]).round(4),\n",
    "                \"OpinionMean\": lambda m: np.mean([a.opinion for a in m._agents]).round(4),\n",
    "                \"FrustrationVariance\": lambda m: np.var([a.frustration for a in m._agents]).round(4),\n",
    "                \"FrustrationMean\": lambda m: np.mean([a.frustration for a in m._agents]).round(4)\n",
    "            },\n",
    "            agent_reporters={\n",
    "                \"Opinion\": \"opinion\",\n",
    "                \"Region\": \"region\",\n",
    "                \"Frustration\": \"frustration\"\n",
    "            }\n",
    "        )\n",
    "\n",
    "    def init_agents(self, region_data: pd.DataFrame, synthetic_incomes: dict[str, list[float]], agents_per_region: int):\n",
    "        for _, row in region_data.iterrows():\n",
    "            region = row['geo']\n",
    "            gini = row['gini']\n",
    "            household_cost_share = row[\"household_cost_share\"] if \"household_cost_share\" in row.index else None\n",
    "            # arop = row['arop']\n",
    "            # housing = row['housing']\n",
    "\n",
    "            for i in range(agents_per_region):\n",
    "                income = synthetic_incomes[region][i]\n",
    "                opinion = np.random.uniform(0, 1)\n",
    "                PersonAgent(self, region, income, gini, opinion, household_cost_share)\n",
    "\n",
    "    def run_simulation(self, number_of_steps: int) -> tuple[pd.DataFrame, pd.DataFrame]:\n",
    "        for _ in range(number_of_steps):\n",
    "            self.agents.do(\"step\")\n",
    "        self.datacollector.collect(self)\n",
    "        model_df = self.datacollector.get_model_vars_dataframe()\n",
    "        agent_df = self.datacollector.get_agent_vars_dataframe()\n",
    "        \n",
    "        return model_df, agent_df"
   ]
  },
  {
   "cell_type": "markdown",
   "id": "6e833653",
   "metadata": {},
   "source": [
    "## 5. Run model"
   ]
  },
  {
   "cell_type": "code",
   "execution_count": 67,
   "id": "1c4c6ec9",
   "metadata": {},
   "outputs": [],
   "source": [
    "mean_frustrations_over_years = {}\n",
    "mean_opinions_over_years = {}\n",
    "for year in relevant_years:\n",
    "    mean_incomes = df_processed_mean_median_income[[\"geo\", year]].rename(columns={year: \"mean\"})\n",
    "    gini_coefficients = df_processed_gini_coefficient[[\"geo\", year]].rename(columns={year: \"gini\"})\n",
    "    household_costs = df_processed_household_cost_shares[[\"geo\", year]].rename(columns={year: \"household_cost_share\"})\n",
    "    df_region_data = mean_incomes.merge(gini_coefficients, left_on=\"geo\", right_on=\"geo\").merge(household_costs, left_on=\"geo\", right_on=\"geo\")\n",
    "\n",
    "    model = InequalityModel(region_data=df_region_data, synthetic_incomes=income_distributions[year], agents_per_region=NUM_AGENTS_PER_REGION, mu=SHIFT_RATE)\n",
    "    model_df, agent_df = model.run_simulation(NUM_STEPS)\n",
    "    \n",
    "    mean_frustrations_over_years[year] = model_df[\"FrustrationMean\"].values[0]\n",
    "    mean_opinions_over_years[year] = model_df[\"OpinionMean\"].values[0]"
   ]
  },
  {
   "cell_type": "markdown",
   "id": "b5828d5a",
   "metadata": {},
   "source": [
    "## 6. Plot mean frustrations over years"
   ]
  },
  {
   "cell_type": "code",
   "execution_count": 68,
   "id": "b786a9df",
   "metadata": {},
   "outputs": [
    {
     "data": {
      "image/png": "[encoded data removed]",
      "text/plain": [
       "<Figure size 1000x800 with 1 Axes>"
      ]
     },
     "metadata": {},
     "output_type": "display_data"
    }
   ],
   "source": [
    "years = list(mean_frustrations_over_years.keys())\n",
    "frustration_means = list(mean_frustrations_over_years.values())\n",
    "\n",
    "palette = sns.color_palette(\"tab10\", len(years))\n",
    "colors = palette.as_hex()\n",
    "\n",
    "plt.figure(figsize=(10, 8))\n",
    "plt.bar(years, frustration_means, color=colors)\n",
    "plt.xlabel(\"Year\")\n",
    "plt.ylabel(\"Simulated Average Frustration\")\n",
    "plt.title(\"Simulated Average Frustration per Year\")\n",
    "plt.tight_layout()\n",
    "plt.savefig(result_dir.joinpath(\"mean_frustrations_over_years.pdf\"), format=\"pdf\")\n",
    "plt.show()"
   ]
  },
  {
   "cell_type": "markdown",
   "id": "fb2e7905",
   "metadata": {},
   "source": [
    "## 7. Plot mean opinions over years"
   ]
  },
  {
   "cell_type": "code",
   "execution_count": 69,
   "id": "3ff3a9fb",
   "metadata": {},
   "outputs": [
    {
     "data": {
      "image/png": "[encoded data removed]",
      "text/plain": [
       "<Figure size 1000x800 with 1 Axes>"
      ]
     },
     "metadata": {},
     "output_type": "display_data"
    }
   ],
   "source": [
    "years = list(mean_opinions_over_years.keys())\n",
    "frustration_means = list(mean_opinions_over_years.values())\n",
    "\n",
    "palette = sns.color_palette(\"tab10\", len(years))\n",
    "colors = palette.as_hex()\n",
    "\n",
    "plt.figure(figsize=(10, 8))\n",
    "plt.bar(years, frustration_means, color=colors)\n",
    "plt.xlabel(\"Year\")\n",
    "plt.ylabel(\"Simulated Average Opinions\")\n",
    "plt.title(\"Simulated Average Opinions per Year\")\n",
    "plt.tight_layout()\n",
    "plt.savefig(result_dir.joinpath(\"mean_opinions_over_years.pdf\"), format=\"pdf\")\n",
    "plt.show()"
   ]
  }
 ],
 "metadata": {
  "kernelspec": {
   "display_name": ".venv",
   "language": "python",
   "name": "python3"
  },
  "language_info": {
   "codemirror_mode": {
    "name": "ipython",
    "version": 3
   },
   "file_extension": ".py",
   "mimetype": "text/x-python",
   "name": "python",
   "nbconvert_exporter": "python",
   "pygments_lexer": "ipython3",
   "version": "3.12.7"
  }
 },
 "nbformat": 4,
 "nbformat_minor": 5
}
