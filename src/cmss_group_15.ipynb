{
 "cells": [
  {
   "cell_type": "markdown",
   "id": "35906544-58d0-47a5-bca3-644cae1969fb",
   "metadata": {},
   "source": [
    "# CMSS Project Group 15"
   ]
  },
  {
   "cell_type": "markdown",
   "id": "0dabeba4",
   "metadata": {},
   "source": [
    "## Project Name"
   ]
  },
  {
   "cell_type": "markdown",
   "id": "a23a181a",
   "metadata": {},
   "source": [
    "## Project Description\n",
    "\n",
    "Blabla"
   ]
  },
  {
   "cell_type": "markdown",
   "id": "e758b33f",
   "metadata": {},
   "source": [
    "### Environment Setup\n",
    "\n",
    "For the following project **Python Version 3.13.5** was used.\n",
    "\n",
    "The following libraries are required for this project:\n",
    "\n",
    "#### Deep Learning\n",
    "- **`torch`** – PyTorch, an open-source deep learning library for tensor computation and neural networks.\n",
    "\n",
    "#### Natural Language Processing (NLP)\n",
    "- **`nltk`** – Toolkit for working with human language data, supporting text processing and analysis.\n",
    "- **`spacy`** – Fast and production-ready NLP library with pre-trained models and support for pipelines.\n",
    "- **`textstat`** – A package for computing text readability scores and complexity metrics.\n",
    "\n",
    "#### Standard Library Modules\n",
    "- **`re`** – Provides regular expression matching operations.\n",
    "- **`os`** – Interfaces for interacting with the operating system.\n",
    "- **`math`** – Mathematical functions such as logarithms, square roots, and constants.\n",
    "- **`unicodedata`** – Utilities for Unicode character properties and normalization."
   ]
  },
  {
   "cell_type": "markdown",
   "id": "f12d7d30",
   "metadata": {},
   "source": [
    "### Installation Commands\n",
    "\n",
    "To install the required libraries, run the following:"
   ]
  },
  {
   "cell_type": "code",
   "execution_count": null,
   "id": "d268818d-eb24-4fcf-bc39-f7d3c6e3a4f5",
   "metadata": {},
   "outputs": [],
   "source": [
    "# Pip installments"
   ]
  },
  {
   "cell_type": "code",
   "execution_count": null,
   "id": "e02cc80e",
   "metadata": {},
   "outputs": [],
   "source": [
    "# Imports"
   ]
  },
  {
   "cell_type": "markdown",
   "id": "237168e2",
   "metadata": {},
   "source": [
    "-----------------------------------------------"
   ]
  },
  {
   "cell_type": "code",
   "execution_count": null,
   "id": "8035b83b",
   "metadata": {},
   "outputs": [],
   "source": [
    "# Code starts here"
   ]
  }
 ],
 "metadata": {
  "kernelspec": {
   "display_name": "venv",
   "language": "python",
   "name": "python3"
  },
  "language_info": {
   "codemirror_mode": {
    "name": "ipython",
    "version": 3
   },
   "file_extension": ".py",
   "mimetype": "text/x-python",
   "name": "python",
   "nbconvert_exporter": "python",
   "pygments_lexer": "ipython3",
   "version": "3.13.5"
  }
 },
 "nbformat": 4,
 "nbformat_minor": 5
}
