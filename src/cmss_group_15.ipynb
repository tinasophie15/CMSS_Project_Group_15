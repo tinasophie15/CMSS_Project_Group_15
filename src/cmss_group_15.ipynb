{
 "cells": [
  {
   "cell_type": "markdown",
   "id": "0dabeba4",
   "metadata": {},
   "source": [
    "# Inequality and Polarization: An Agent-Based Modeling Approach Using Eurostat Data"
   ]
  },
  {
   "cell_type": "markdown",
   "id": "53d3ee93",
   "metadata": {},
   "source": [
    "by:\n",
    "- Kevin Heinrich, 11902941\n",
    "- Matthias Hemmer, 11804194\n",
    "- Marina Hofer, 12337819\n",
    "- Christina Sophie Knes, 11902902"
   ]
  },
  {
   "cell_type": "markdown",
   "id": "a23a181a",
   "metadata": {},
   "source": [
    "## Project Description\n",
    "\n",
    "This project explores the relationship between regional income inequality and social polarization in Europe using agent-based modeling. Drawing on real-world data from Eurostat, including the Gini coefficient, at-risk-of-poverty rates and disposable income across NUTS-2 regions, we simulate how economic disparities might influence public opinion dynamics and social fragmentation.\n",
    "\n",
    "We implement a modified Deffuant model, where agents interact and adjust their opinions based on income differences and local economic context. The model integrates heterogeneity in income, frustration levels, and opinion tolerance, creating a dynamic system that allows us to observe under which conditions polarization emerges.\n",
    "\n",
    "Our main objectives are:\n",
    "- To simulate opinion formation in a socioeconomically stratified population.\n",
    "- To explore how varying levels of inequality and redistribution affect polarization.\n",
    "- To identify regional vulnerability to polarization based on Eurostat indicators.\n",
    "\n",
    "Through these simulations, we aim to provide insights into how economic structures may contribute to societal tensions, and how policy interventions might influence collective outcomes."
   ]
  },
  {
   "cell_type": "markdown",
   "id": "e758b33f",
   "metadata": {},
   "source": [
    "## Environment Setup\n",
    "\n",
    "For the following project, **Python Version 3.13.5** was used.\n",
    "\n",
    "\n",
    "**`TODO: Rewrite import description when everything is ready for submission`**\n",
    "\n",
    "The following libraries are required for this project:\n",
    "\n",
    "### Deep Learning\n",
    "- **`torch`** – PyTorch, an open-source deep learning library for tensor computation and neural networks.\n",
    "\n",
    "### Natural Language Processing (NLP)\n",
    "- **`nltk`** – Toolkit for working with human language data, supporting text processing and analysis.\n",
    "- **`spacy`** – Fast and production-ready NLP library with pre-trained models and support for pipelines.\n",
    "- **`textstat`** – A package for computing text readability scores and complexity metrics.\n",
    "\n",
    "### Standard Library Modules\n",
    "- **`re`** – Provides regular expression matching operations.\n",
    "- **`os`** – Interfaces for interacting with the operating system.\n",
    "- **`math`** – Mathematical functions such as logarithms, square roots, and constants.\n",
    "- **`unicodedata`** – Utilities for Unicode character properties and normalization.\n"
   ]
  },
  {
   "cell_type": "markdown",
   "id": "f12d7d30",
   "metadata": {},
   "source": [
    "## PIP installations\n",
    "\n",
    "To install the required libraries, run the following:"
   ]
  },
  {
   "cell_type": "code",
   "execution_count": 1,
   "id": "d268818d-eb24-4fcf-bc39-f7d3c6e3a4f5",
   "metadata": {},
   "outputs": [
    {
     "name": "stdout",
     "output_type": "stream",
     "text": [
      "Collecting eurostat\n",
      "  Downloading eurostat-1.1.1-py3-none-any.whl.metadata (26 kB)\n",
      "Collecting pandas (from eurostat)\n",
      "  Using cached pandas-2.3.0-cp313-cp313-manylinux_2_17_x86_64.manylinux2014_x86_64.whl.metadata (91 kB)\n",
      "Collecting requests (from eurostat)\n",
      "  Using cached requests-2.32.4-py3-none-any.whl.metadata (4.9 kB)\n",
      "Collecting numpy>=1.26.0 (from pandas->eurostat)\n",
      "  Using cached numpy-2.3.1-cp313-cp313-manylinux_2_28_x86_64.whl.metadata (62 kB)\n",
      "Requirement already satisfied: python-dateutil>=2.8.2 in ./.venv/lib/python3.13/site-packages (from pandas->eurostat) (2.9.0.post0)\n",
      "Collecting pytz>=2020.1 (from pandas->eurostat)\n",
      "  Using cached pytz-2025.2-py2.py3-none-any.whl.metadata (22 kB)\n",
      "Collecting tzdata>=2022.7 (from pandas->eurostat)\n",
      "  Using cached tzdata-2025.2-py2.py3-none-any.whl.metadata (1.4 kB)\n",
      "Requirement already satisfied: six>=1.5 in ./.venv/lib/python3.13/site-packages (from python-dateutil>=2.8.2->pandas->eurostat) (1.17.0)\n",
      "Collecting charset_normalizer<4,>=2 (from requests->eurostat)\n",
      "  Using cached charset_normalizer-3.4.2-cp313-cp313-manylinux_2_17_x86_64.manylinux2014_x86_64.whl.metadata (35 kB)\n",
      "Collecting idna<4,>=2.5 (from requests->eurostat)\n",
      "  Using cached idna-3.10-py3-none-any.whl.metadata (10 kB)\n",
      "Collecting urllib3<3,>=1.21.1 (from requests->eurostat)\n",
      "  Using cached urllib3-2.5.0-py3-none-any.whl.metadata (6.5 kB)\n",
      "Collecting certifi>=2017.4.17 (from requests->eurostat)\n",
      "  Using cached certifi-2025.6.15-py3-none-any.whl.metadata (2.4 kB)\n",
      "Downloading eurostat-1.1.1-py3-none-any.whl (16 kB)\n",
      "Using cached pandas-2.3.0-cp313-cp313-manylinux_2_17_x86_64.manylinux2014_x86_64.whl (12.0 MB)\n",
      "Using cached numpy-2.3.1-cp313-cp313-manylinux_2_28_x86_64.whl (16.6 MB)\n",
      "Using cached pytz-2025.2-py2.py3-none-any.whl (509 kB)\n",
      "Using cached tzdata-2025.2-py2.py3-none-any.whl (347 kB)\n",
      "Using cached requests-2.32.4-py3-none-any.whl (64 kB)\n",
      "Using cached charset_normalizer-3.4.2-cp313-cp313-manylinux_2_17_x86_64.manylinux2014_x86_64.whl (148 kB)\n",
      "Using cached idna-3.10-py3-none-any.whl (70 kB)\n",
      "Using cached urllib3-2.5.0-py3-none-any.whl (129 kB)\n",
      "Using cached certifi-2025.6.15-py3-none-any.whl (157 kB)\n",
      "Installing collected packages: pytz, urllib3, tzdata, numpy, idna, charset_normalizer, certifi, requests, pandas, eurostat\n",
      "\u001b[2K   \u001b[90m━━━━━━━━━━━━━━━━━━━━━━━━━━━━━━━━━━━━━━━━\u001b[0m \u001b[32m10/10\u001b[0m [eurostat]/10\u001b[0m [pandas]s]\n",
      "\u001b[1A\u001b[2KSuccessfully installed certifi-2025.6.15 charset_normalizer-3.4.2 eurostat-1.1.1 idna-3.10 numpy-2.3.1 pandas-2.3.0 pytz-2025.2 requests-2.32.4 tzdata-2025.2 urllib3-2.5.0\n",
      "Requirement already satisfied: pandas in ./.venv/lib/python3.13/site-packages (2.3.0)\n",
      "Requirement already satisfied: numpy>=1.26.0 in ./.venv/lib/python3.13/site-packages (from pandas) (2.3.1)\n",
      "Requirement already satisfied: python-dateutil>=2.8.2 in ./.venv/lib/python3.13/site-packages (from pandas) (2.9.0.post0)\n",
      "Requirement already satisfied: pytz>=2020.1 in ./.venv/lib/python3.13/site-packages (from pandas) (2025.2)\n",
      "Requirement already satisfied: tzdata>=2022.7 in ./.venv/lib/python3.13/site-packages (from pandas) (2025.2)\n",
      "Requirement already satisfied: six>=1.5 in ./.venv/lib/python3.13/site-packages (from python-dateutil>=2.8.2->pandas) (1.17.0)\n",
      "Requirement already satisfied: numpy in ./.venv/lib/python3.13/site-packages (2.3.1)\n"
     ]
    }
   ],
   "source": [
    "! pip install eurostat\n",
    "! pip install pandas\n",
    "! pip install numpy"
   ]
  },
  {
   "cell_type": "markdown",
   "id": "2f3d77a6",
   "metadata": {},
   "source": [
    "## Include modules"
   ]
  },
  {
   "cell_type": "code",
   "execution_count": null,
   "id": "e02cc80e",
   "metadata": {},
   "outputs": [],
   "source": [
    "import eurostat"
   ]
  },
  {
   "cell_type": "markdown",
   "id": "237168e2",
   "metadata": {},
   "source": [
    "-----------------------------------------------"
   ]
  },
  {
   "cell_type": "markdown",
   "id": "d025c1a3",
   "metadata": {},
   "source": [
    "## 1. Read Eurostat data"
   ]
  },
  {
   "cell_type": "markdown",
   "id": "eaf1c53f",
   "metadata": {},
   "source": [
    "Firstly, we download the necessary datasets via the `eurostat` API."
   ]
  },
  {
   "cell_type": "code",
   "execution_count": null,
   "id": "8035b83b",
   "metadata": {},
   "outputs": [],
   "source": [
    "df_orig_gini_coefficient = eurostat.get_data_df(\"ilc_di12\")\n",
    "df_orig_risk_of_poverty = eurostat.get_data_df(\"ilc_li02\")\n",
    "df_orig_regional_differences = eurostat.get_data_df(\"ilc_mded01\")"
   ]
  },
  {
   "cell_type": "markdown",
   "id": "dc2778a0",
   "metadata": {},
   "source": [
    "## 2. Preprocess data"
   ]
  },
  {
   "cell_type": "markdown",
   "id": "144c6279",
   "metadata": {},
   "source": [
    "### 2.1 Preprocess \"Gini Coefficient\" Dataset"
   ]
  },
  {
   "cell_type": "code",
   "execution_count": 4,
   "id": "7fb98ba4",
   "metadata": {},
   "outputs": [],
   "source": [
    "df_processed_gini_coefficient = df_orig_gini_coefficient.copy(deep=True)"
   ]
  },
  {
   "cell_type": "markdown",
   "id": "e244a2d3",
   "metadata": {},
   "source": [
    "### 2.2 Preprocess \"Risk of Poverty\" Dataset"
   ]
  },
  {
   "cell_type": "code",
   "execution_count": 7,
   "id": "92c09330",
   "metadata": {},
   "outputs": [],
   "source": [
    "df_processed_risk_of_poverty = df_orig_risk_of_poverty.copy(deep=True)"
   ]
  },
  {
   "cell_type": "markdown",
   "id": "64215a77",
   "metadata": {},
   "source": [
    "### 2.3 Preprocess \"Regional Differences\" Dataset"
   ]
  },
  {
   "cell_type": "code",
   "execution_count": 8,
   "id": "312ab11d",
   "metadata": {},
   "outputs": [],
   "source": [
    "df_processed_regional_differences = df_orig_regional_differences.copy(deep=True)"
   ]
  }
 ],
 "metadata": {
  "kernelspec": {
   "display_name": ".venv",
   "language": "python",
   "name": "python3"
  },
  "language_info": {
   "codemirror_mode": {
    "name": "ipython",
    "version": 3
   },
   "file_extension": ".py",
   "mimetype": "text/x-python",
   "name": "python",
   "nbconvert_exporter": "python",
   "pygments_lexer": "ipython3",
   "version": "3.13.5"
  }
 },
 "nbformat": 4,
 "nbformat_minor": 5
}
